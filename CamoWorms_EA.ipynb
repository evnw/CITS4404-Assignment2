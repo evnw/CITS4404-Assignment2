{
 "cells": [
  {
   "cell_type": "markdown",
   "metadata": {
    "collapsed": false
   },
   "source": [
    "### CITS4404 Practical Project\n",
    "\n",
    "# Camo Worms - Evolutionary Algorithm"
   ]
  },
  {
   "cell_type": "code",
   "execution_count": 2,
   "metadata": {},
   "outputs": [],
   "source": [
    "# imports\n",
    "from camo_worms_utils import *\n",
    "from random import shuffle"
   ]
  },
  {
   "cell_type": "code",
   "execution_count": 103,
   "metadata": {},
   "outputs": [],
   "source": [
    "def get_cost(image, worm_idx: int, clew: list[Camo_Worm], w_internal, w_group, w_environment):\n",
    "    worm = clew[worm_idx]\n",
    "    # ********************\n",
    "    # internal\n",
    "    \n",
    "    # lets just say we want worms to be around 5 px wide\n",
    "    # scale so that 5px => low score, lower or higher width => high score\n",
    "    ideal = 10\n",
    "    dist_from_ideal = np.abs(worm.width - ideal)\n",
    "\n",
    "    internal_score = dist_from_ideal\n",
    "\n",
    "    # ********************\n",
    "    # group\n",
    "\n",
    "    # count-based - get proportion of other worms \"touching\" this worm\n",
    "    # define \"touching\" as dist to other point is less than this.width+other.width\n",
    "    count = 0\n",
    "    for i in range(len(clew)):\n",
    "        if i is not worm_idx:\n",
    "            # base off of three intermediate points\n",
    "            # i.e. add one to count if any points are too close\n",
    "            points_worm = worm.intermediate_points(math.ceil(worm.approx_length() / worm.width))\n",
    "            points_other = clew[i].intermediate_points(math.ceil(clew[i].approx_length() / clew[i].width))\n",
    "            \n",
    "            touching = False\n",
    "            for point_worm in points_worm:\n",
    "                if touching:\n",
    "                    count += 1\n",
    "                    break\n",
    "                for point_other in points_other:\n",
    "                    euclid_dist = np.linalg.norm(\n",
    "                        np.array(point_worm)-np.array(point_other)\n",
    "                    )\n",
    "                    # print(f\"Points {point_worm}, {point_other}\")\n",
    "                    # print(f\"Widths {worm.width}, {clew[i].width}\")\n",
    "                    # print(f\"Dist {euclid_dist}\\n\")\n",
    "                    if euclid_dist < worm.width + clew[i].width:\n",
    "                        touching = True\n",
    "                        break\n",
    "    proportion = count/(len(clew)-1)\n",
    "    # print(f\"Count: {count}, Proportion: {proportion}\")\n",
    "\n",
    "    group_score = proportion\n",
    "\n",
    "    # ********************\n",
    "    # environment\n",
    "\n",
    "    # we want worms to match mean colour underneath them\n",
    "    colour_score = np.abs(worm.get_mean_colour_under(image) - worm.colour)\n",
    "    enviro_score = colour_score\n",
    "\n",
    "    # return total weighted and individual scores\n",
    "    return (\n",
    "        internal_score*w_internal + group_score*w_group + enviro_score*w_environment,\n",
    "        internal_score*w_internal,\n",
    "        group_score*w_group,\n",
    "        enviro_score*w_environment\n",
    "    )"
   ]
  },
  {
   "cell_type": "code",
   "execution_count": 31,
   "metadata": {},
   "outputs": [],
   "source": [
    "def get_fittest(image, clew: list[Camo_Worm], top_n: int, w_internal: float=1.0, w_group: float=1.0, w_environment: float=1.0):\n",
    "    scores = [get_cost(image, i, clew, w_internal, w_group, w_environment) for i, worm in enumerate(clew)]\n",
    "    costs = [score[0] for score in scores]\n",
    "    internal_scores = [score[1] for score in scores]\n",
    "    group_scores = [score[2] for score in scores]\n",
    "    enviro_scores = [score[3] for score in scores]\n",
    "    sorted_clew = sorted(zip(clew, costs), key=lambda x: x[1])\n",
    "    return (\n",
    "        [worm for worm,cost in sorted_clew[:top_n]],\n",
    "        np.mean(costs),\n",
    "        np.mean(internal_scores),\n",
    "        np.mean(group_scores),\n",
    "        np.mean(enviro_scores)\n",
    "    )"
   ]
  },
  {
   "cell_type": "code",
   "execution_count": 32,
   "metadata": {},
   "outputs": [],
   "source": [
    "def mutate_worm(worm: Camo_Worm):\n",
    "    \n",
    "    new_x = worm.x + rng.uniform(-20, 20)\n",
    "    new_y = worm.y + rng.uniform(-20, 20)\n",
    "\n",
    "\n",
    "    new_r = worm.r\n",
    "    new_theta = worm.theta\n",
    "    new_deviation_r = worm.dr\n",
    "    new_deviation_gamma = worm.dgamma\n",
    "\n",
    "    # just doing width and colour\n",
    "    new_width = (worm.width + rng.uniform(-1,1))\n",
    "    \n",
    "    new_colour = (worm.colour + rng.uniform(-1,1))\n",
    "    new_colour = max( new_colour, 0 )\n",
    "    new_colour = min( new_colour, 1 )\n",
    "\n",
    "    return Camo_Worm(new_x, new_y, new_r, new_theta, new_deviation_r, new_deviation_gamma, new_width, new_colour)\n",
    "\n",
    "def get_next_clew(fittest: list[Camo_Worm], size: int):\n",
    "    # we will keep the parents and add new worms to size\n",
    "    new_clew=fittest\n",
    "\n",
    "    # shuffle for randomness\n",
    "    shuffle(fittest)\n",
    "    i = 0\n",
    "    while len(new_clew) < size:\n",
    "        reference_worm = fittest[i]\n",
    "        # mutate and add to clew\n",
    "        new_worm=mutate_worm(reference_worm)\n",
    "        new_clew.append(new_worm)\n",
    "\n",
    "    return new_clew"
   ]
  },
  {
   "cell_type": "code",
   "execution_count": 33,
   "metadata": {},
   "outputs": [],
   "source": [
    "def train(image, mu: int, lmbda: int, num_epochs: int=100):\n",
    "    # using algorithm like https://thomasweise.github.io/aitoa/aitoa.pdf#page=114&zoom=100,94,226\n",
    "    # EA no recombination\n",
    "    # mu is number of parents\n",
    "    # lambda is number of offspring\n",
    "    # total clew = mu + lambda\n",
    "    clew = initialise_clew(mu+lmbda, image.shape, (40, 30, 1))\n",
    "\n",
    "    print(\"Initial\")\n",
    "    observe_clew(clew, image)\n",
    "\n",
    "    for i in range(num_epochs+1):\n",
    "        # get fittest mu worms\n",
    "        fittest, avg_cost, avg_internal, avg_group, avg_enviro = get_fittest(image, clew, mu, w_group=10)\n",
    "        # get next clew of size mu + lambda\n",
    "        clew = get_next_clew(fittest.copy(), size=mu+lmbda)\n",
    "        if i%20==0:\n",
    "            print(60*\"*\")\n",
    "            print(f\"Epoch: {i}\")\n",
    "            print(f\"Fittest {len(fittest)} worms\\n\")\n",
    "            print(\"Average Weighted Scores\")\n",
    "            print(\"-\"*30)\n",
    "            print(\"Internal:\".ljust(20) + f\"{avg_internal:.4f}\")\n",
    "            print(\"Group:\".ljust(20) + f\"{avg_group:.4f}\")\n",
    "            print(\"Environment:\".ljust(20) + f\"{avg_enviro:.4f}\")\n",
    "            print(\"-\"*30)\n",
    "            print(\"Total Cost:\".ljust(20) + f\"{avg_cost:.4f}\")\n",
    "            observe_clew(fittest, image)\n",
    "            print(\"Next Clew\")\n",
    "            observe_clew(clew, image)\n",
    "            print(f\"Worm width: {clew[0].width}\")"
   ]
  },
  {
   "cell_type": "code",
   "execution_count": 1,
   "metadata": {},
   "outputs": [
    {
     "ename": "NameError",
     "evalue": "name 'prep_image' is not defined",
     "output_type": "error",
     "traceback": [
      "\u001b[1;31m---------------------------------------------------------------------------\u001b[0m",
      "\u001b[1;31mNameError\u001b[0m                                 Traceback (most recent call last)",
      "Cell \u001b[1;32mIn[1], line 1\u001b[0m\n\u001b[1;32m----> 1\u001b[0m img \u001b[38;5;241m=\u001b[39m \u001b[43mprep_image\u001b[49m(IMAGE_DIR, IMAGE_NAME, MASK)\n\u001b[0;32m      2\u001b[0m train(image\u001b[38;5;241m=\u001b[39mimg, mu\u001b[38;5;241m=\u001b[39m\u001b[38;5;241m30\u001b[39m, lmbda\u001b[38;5;241m=\u001b[39m\u001b[38;5;241m70\u001b[39m)\n",
      "\u001b[1;31mNameError\u001b[0m: name 'prep_image' is not defined"
     ]
    }
   ],
   "source": [
    "img = prep_image(IMAGE_DIR, IMAGE_NAME, MASK)\n",
    "train(image=img, mu=30, lmbda=70)"
   ]
  },
  {
   "cell_type": "markdown",
   "metadata": {},
   "source": [
    "Bruh"
   ]
  }
 ],
 "metadata": {
  "kernelspec": {
   "argv": [
    "/usr/bin/python3",
    "-m",
    "ipykernel",
    "--HistoryManager.enabled=False",
    "--matplotlib=inline",
    "-c",
    "%config InlineBackend.figure_formats = set(['retina'])\nimport matplotlib; matplotlib.rcParams['figure.figsize'] = (12, 7)",
    "-f",
    "{connection_file}"
   ],
   "display_name": "Python 3 (system-wide)",
   "env": {},
   "language": "python",
   "metadata": {
    "cocalc": {
     "description": "Python 3 programming language",
     "priority": 100,
     "url": "https://www.python.org/"
    }
   },
   "name": "python3",
   "resource_dir": "/ext/jupyter/kernels/python3"
  },
  "language_info": {
   "codemirror_mode": {
    "name": "ipython",
    "version": 3
   },
   "file_extension": ".py",
   "mimetype": "text/x-python",
   "name": "python",
   "nbconvert_exporter": "python",
   "pygments_lexer": "ipython3",
   "version": "3.11.9"
  },
  "nbgrader": {
   "__altered": false,
   "__hash": -335098374,
   "_root": {
    "entries": [
     [
      "cocalc_minimal_stubs",
      false
     ]
    ],
    "ownerID": {}
   },
   "cocalc_minimal_stubs": false,
   "size": 1
  }
 },
 "nbformat": 4,
 "nbformat_minor": 4
}
